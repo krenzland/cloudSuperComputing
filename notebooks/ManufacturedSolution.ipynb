{
 "cells": [
  {
   "cell_type": "code",
   "execution_count": 1,
   "metadata": {},
   "outputs": [],
   "source": [
    "%display latex\n",
    "x, y, t = var(['x', 'y', 't'])\n",
    "assume(x, 'real')\n",
    "assume(y, 'real')\n",
    "assume(t, 'real')\n",
    "\n",
    "omega = 2 * pi\n",
    "\n",
    "visc, gamma, gas_constant, kappa, Pr = var('mu', 'gamma', 'R', 'kappa', 'Pr')\n",
    "\n",
    "assume(gamma, 'real')\n",
    "assume(gas_constant, 'real')\n",
    "assume(visc, 'real')\n",
    "assume(Pr, 'real')\n",
    "assume(gas_constant, 'real')\n",
    "\n",
    "\n",
    "assume(t>=0,visc>=0, kappa>0,gas_constant>0)\n",
    "assume(gamma > 1)\n",
    "\n",
    "# Convergence\n",
    "rho_b = 1\n",
    "p_b = 1/gamma\n",
    "\n",
    "rho_0 = Rational('1/2')\n",
    "p_0 = Rational('1/10')\n",
    "k = Rational('1/5') * pi * Matrix([1,1])\n",
    "v_0 = vector([1,1,]) * Rational('1/4')\n",
    "X = vector([x,y])"
   ]
  },
  {
   "cell_type": "code",
   "execution_count": 2,
   "metadata": {},
   "outputs": [
    {
     "data": {
      "text/html": [
       "<html><script type=\"math/tex; mode=display\">\\newcommand{\\Bold}[1]{\\mathbf{#1}}\\left(\\frac{1}{2} \\, \\cos\\left(-2 \\, \\pi t + \\frac{1}{5} \\, \\pi x + \\frac{1}{5} \\, \\pi y\\right) + 1,\\,\\frac{1}{8} \\, {\\left(\\cos\\left(-2 \\, \\pi t + \\frac{1}{5} \\, \\pi x + \\frac{1}{5} \\, \\pi y\\right) + 2\\right)} \\sin\\left(-2 \\, \\pi t + \\frac{1}{5} \\, \\pi x + \\frac{1}{5} \\, \\pi y\\right),\\,\\frac{1}{8} \\, {\\left(\\cos\\left(-2 \\, \\pi t + \\frac{1}{5} \\, \\pi x + \\frac{1}{5} \\, \\pi y\\right) + 2\\right)} \\sin\\left(-2 \\, \\pi t + \\frac{1}{5} \\, \\pi x + \\frac{1}{5} \\, \\pi y\\right),\\,\\frac{1}{32} \\, {\\left(\\cos\\left(-2 \\, \\pi t + \\frac{1}{5} \\, \\pi x + \\frac{1}{5} \\, \\pi y\\right) + 2\\right)} \\sin\\left(-2 \\, \\pi t + \\frac{1}{5} \\, \\pi x + \\frac{1}{5} \\, \\pi y\\right)^{2} + \\frac{\\frac{10}{\\gamma} + \\sin\\left(-2 \\, \\pi t + \\frac{1}{5} \\, \\pi x + \\frac{1}{5} \\, \\pi y\\right)}{10 \\, {\\left(\\gamma - 1\\right)}}\\right)</script></html>"
      ],
      "text/plain": [
       "(1/2*cos(-2*pi*t + 1/5*pi*x + 1/5*pi*y) + 1, 1/8*(cos(-2*pi*t + 1/5*pi*x + 1/5*pi*y) + 2)*sin(-2*pi*t + 1/5*pi*x + 1/5*pi*y), 1/8*(cos(-2*pi*t + 1/5*pi*x + 1/5*pi*y) + 2)*sin(-2*pi*t + 1/5*pi*x + 1/5*pi*y), 1/32*(cos(-2*pi*t + 1/5*pi*x + 1/5*pi*y) + 2)*sin(-2*pi*t + 1/5*pi*x + 1/5*pi*y)^2 + 1/10*(10/gamma + sin(-2*pi*t + 1/5*pi*x + 1/5*pi*y))/(gamma - 1))"
      ]
     },
     "execution_count": 2,
     "metadata": {},
     "output_type": "execute_result"
    }
   ],
   "source": [
    "def trigrat(expr):\n",
    "    return SR(maxima(expr).trigrat())\n",
    "\n",
    "def trigsimp(expr):\n",
    "    return SR(maxima(expr).trigrat())\n",
    "    \n",
    "val = (k * X)[0] - omega * t\n",
    "val = val.factor()\n",
    "\n",
    "rho = rho_b + rho_0 * cos(val.factor()) \n",
    "v = simplify(v_0 * sin(val))\n",
    "\n",
    "j = rho * v\n",
    "\n",
    "p = p_b + p_0 * sin(val)\n",
    "E = simplify(p/(gamma-1) + (1/2) * (1/rho) * (j * j))\n",
    "\n",
    "Q = Matrix([rho, j[0], j[1], E])[0]\n",
    "Q\n"
   ]
  },
  {
   "cell_type": "code",
   "execution_count": 3,
   "metadata": {},
   "outputs": [
    {
     "data": {
      "text/html": [
       "<html><script type=\"math/tex; mode=display\">\\newcommand{\\Bold}[1]{\\mathbf{#1}}\\left(\\begin{array}{rr}\n",
       "-\\frac{1}{10} \\, \\pi \\sin\\left(-2 \\, \\pi t + \\frac{1}{5} \\, \\pi x + \\frac{1}{5} \\, \\pi y\\right) & -\\frac{1}{10} \\, \\pi \\sin\\left(-2 \\, \\pi t + \\frac{1}{5} \\, \\pi x + \\frac{1}{5} \\, \\pi y\\right) \\\\\n",
       "\\frac{1}{40} \\, \\pi {\\left(\\cos\\left(-2 \\, \\pi t + \\frac{1}{5} \\, \\pi x + \\frac{1}{5} \\, \\pi y\\right) + 2\\right)} \\cos\\left(-2 \\, \\pi t + \\frac{1}{5} \\, \\pi x + \\frac{1}{5} \\, \\pi y\\right) - \\frac{1}{40} \\, \\pi \\sin\\left(-2 \\, \\pi t + \\frac{1}{5} \\, \\pi x + \\frac{1}{5} \\, \\pi y\\right)^{2} & \\frac{1}{40} \\, \\pi {\\left(\\cos\\left(-2 \\, \\pi t + \\frac{1}{5} \\, \\pi x + \\frac{1}{5} \\, \\pi y\\right) + 2\\right)} \\cos\\left(-2 \\, \\pi t + \\frac{1}{5} \\, \\pi x + \\frac{1}{5} \\, \\pi y\\right) - \\frac{1}{40} \\, \\pi \\sin\\left(-2 \\, \\pi t + \\frac{1}{5} \\, \\pi x + \\frac{1}{5} \\, \\pi y\\right)^{2} \\\\\n",
       "\\frac{1}{40} \\, \\pi {\\left(\\cos\\left(-2 \\, \\pi t + \\frac{1}{5} \\, \\pi x + \\frac{1}{5} \\, \\pi y\\right) + 2\\right)} \\cos\\left(-2 \\, \\pi t + \\frac{1}{5} \\, \\pi x + \\frac{1}{5} \\, \\pi y\\right) - \\frac{1}{40} \\, \\pi \\sin\\left(-2 \\, \\pi t + \\frac{1}{5} \\, \\pi x + \\frac{1}{5} \\, \\pi y\\right)^{2} & \\frac{1}{40} \\, \\pi {\\left(\\cos\\left(-2 \\, \\pi t + \\frac{1}{5} \\, \\pi x + \\frac{1}{5} \\, \\pi y\\right) + 2\\right)} \\cos\\left(-2 \\, \\pi t + \\frac{1}{5} \\, \\pi x + \\frac{1}{5} \\, \\pi y\\right) - \\frac{1}{40} \\, \\pi \\sin\\left(-2 \\, \\pi t + \\frac{1}{5} \\, \\pi x + \\frac{1}{5} \\, \\pi y\\right)^{2} \\\\\n",
       "\\frac{1}{80} \\, \\pi {\\left(\\cos\\left(-2 \\, \\pi t + \\frac{1}{5} \\, \\pi x + \\frac{1}{5} \\, \\pi y\\right) + 2\\right)} \\cos\\left(-2 \\, \\pi t + \\frac{1}{5} \\, \\pi x + \\frac{1}{5} \\, \\pi y\\right) \\sin\\left(-2 \\, \\pi t + \\frac{1}{5} \\, \\pi x + \\frac{1}{5} \\, \\pi y\\right) - \\frac{1}{160} \\, \\pi \\sin\\left(-2 \\, \\pi t + \\frac{1}{5} \\, \\pi x + \\frac{1}{5} \\, \\pi y\\right)^{3} + \\frac{\\pi \\cos\\left(-2 \\, \\pi t + \\frac{1}{5} \\, \\pi x + \\frac{1}{5} \\, \\pi y\\right)}{50 \\, {\\left(\\gamma - 1\\right)}} & \\frac{1}{80} \\, \\pi {\\left(\\cos\\left(-2 \\, \\pi t + \\frac{1}{5} \\, \\pi x + \\frac{1}{5} \\, \\pi y\\right) + 2\\right)} \\cos\\left(-2 \\, \\pi t + \\frac{1}{5} \\, \\pi x + \\frac{1}{5} \\, \\pi y\\right) \\sin\\left(-2 \\, \\pi t + \\frac{1}{5} \\, \\pi x + \\frac{1}{5} \\, \\pi y\\right) - \\frac{1}{160} \\, \\pi \\sin\\left(-2 \\, \\pi t + \\frac{1}{5} \\, \\pi x + \\frac{1}{5} \\, \\pi y\\right)^{3} + \\frac{\\pi \\cos\\left(-2 \\, \\pi t + \\frac{1}{5} \\, \\pi x + \\frac{1}{5} \\, \\pi y\\right)}{50 \\, {\\left(\\gamma - 1\\right)}}\n",
       "\\end{array}\\right)</script></html>"
      ],
      "text/plain": [
       "[                                                                                                                                                                                    -1/10*pi*sin(-2*pi*t + 1/5*pi*x + 1/5*pi*y)                                                                                                                                                                                     -1/10*pi*sin(-2*pi*t + 1/5*pi*x + 1/5*pi*y)]\n",
       "[                                                                                             1/40*pi*(cos(-2*pi*t + 1/5*pi*x + 1/5*pi*y) + 2)*cos(-2*pi*t + 1/5*pi*x + 1/5*pi*y) - 1/40*pi*sin(-2*pi*t + 1/5*pi*x + 1/5*pi*y)^2                                                                                              1/40*pi*(cos(-2*pi*t + 1/5*pi*x + 1/5*pi*y) + 2)*cos(-2*pi*t + 1/5*pi*x + 1/5*pi*y) - 1/40*pi*sin(-2*pi*t + 1/5*pi*x + 1/5*pi*y)^2]\n",
       "[                                                                                             1/40*pi*(cos(-2*pi*t + 1/5*pi*x + 1/5*pi*y) + 2)*cos(-2*pi*t + 1/5*pi*x + 1/5*pi*y) - 1/40*pi*sin(-2*pi*t + 1/5*pi*x + 1/5*pi*y)^2                                                                                              1/40*pi*(cos(-2*pi*t + 1/5*pi*x + 1/5*pi*y) + 2)*cos(-2*pi*t + 1/5*pi*x + 1/5*pi*y) - 1/40*pi*sin(-2*pi*t + 1/5*pi*x + 1/5*pi*y)^2]\n",
       "[1/80*pi*(cos(-2*pi*t + 1/5*pi*x + 1/5*pi*y) + 2)*cos(-2*pi*t + 1/5*pi*x + 1/5*pi*y)*sin(-2*pi*t + 1/5*pi*x + 1/5*pi*y) - 1/160*pi*sin(-2*pi*t + 1/5*pi*x + 1/5*pi*y)^3 + 1/50*pi*cos(-2*pi*t + 1/5*pi*x + 1/5*pi*y)/(gamma - 1) 1/80*pi*(cos(-2*pi*t + 1/5*pi*x + 1/5*pi*y) + 2)*cos(-2*pi*t + 1/5*pi*x + 1/5*pi*y)*sin(-2*pi*t + 1/5*pi*x + 1/5*pi*y) - 1/160*pi*sin(-2*pi*t + 1/5*pi*x + 1/5*pi*y)^3 + 1/50*pi*cos(-2*pi*t + 1/5*pi*x + 1/5*pi*y)/(gamma - 1)]"
      ]
     },
     "execution_count": 3,
     "metadata": {},
     "output_type": "execute_result"
    }
   ],
   "source": [
    "gradQ = jacobian(Q, X)\n",
    "gradQ"
   ]
  },
  {
   "cell_type": "code",
   "execution_count": 4,
   "metadata": {},
   "outputs": [
    {
     "data": {
      "text/html": [
       "<html><script type=\"math/tex; mode=display\">\\newcommand{\\Bold}[1]{\\mathbf{#1}}\\left(\\begin{array}{rr}\n",
       "-\\frac{1}{30} \\, \\pi \\mu \\cos\\left(-2 \\, \\pi t + \\frac{1}{5} \\, \\pi x + \\frac{1}{5} \\, \\pi y\\right) & -\\frac{1}{10} \\, \\pi \\mu \\cos\\left(-2 \\, \\pi t + \\frac{1}{5} \\, \\pi x + \\frac{1}{5} \\, \\pi y\\right) \\\\\n",
       "-\\frac{1}{10} \\, \\pi \\mu \\cos\\left(-2 \\, \\pi t + \\frac{1}{5} \\, \\pi x + \\frac{1}{5} \\, \\pi y\\right) & -\\frac{1}{30} \\, \\pi \\mu \\cos\\left(-2 \\, \\pi t + \\frac{1}{5} \\, \\pi x + \\frac{1}{5} \\, \\pi y\\right)\n",
       "\\end{array}\\right)</script></html>"
      ],
      "text/plain": [
       "[-1/30*pi*mu*cos(-2*pi*t + 1/5*pi*x + 1/5*pi*y) -1/10*pi*mu*cos(-2*pi*t + 1/5*pi*x + 1/5*pi*y)]\n",
       "[-1/10*pi*mu*cos(-2*pi*t + 1/5*pi*x + 1/5*pi*y) -1/30*pi*mu*cos(-2*pi*t + 1/5*pi*x + 1/5*pi*y)]"
      ]
     },
     "execution_count": 4,
     "metadata": {},
     "output_type": "execute_result"
    }
   ],
   "source": [
    "v_div = v[0].diff(x) + v[1].diff(y)\n",
    "v_grad = jacobian(v, X)\n",
    "stress_T = visc * (Rational('2/3') * identity_matrix(2) * v_div - (v_grad + v_grad.T))\n",
    "stress_T"
   ]
  },
  {
   "cell_type": "code",
   "execution_count": 5,
   "metadata": {},
   "outputs": [
    {
     "data": {
      "text/html": [
       "<html><script type=\"math/tex; mode=display\">\\newcommand{\\Bold}[1]{\\mathbf{#1}}\\left(\\frac{2 \\, {\\left(2 \\, \\pi \\gamma \\cos\\left(-2 \\, \\pi t + \\frac{1}{5} \\, \\pi x + \\frac{1}{5} \\, \\pi y\\right) + \\pi \\gamma + 10 \\, \\pi \\sin\\left(-2 \\, \\pi t + \\frac{1}{5} \\, \\pi x + \\frac{1}{5} \\, \\pi y\\right)\\right)}}{25 \\, {\\left(8 \\, R \\gamma \\cos\\left(-2 \\, \\pi t + \\frac{1}{5} \\, \\pi x + \\frac{1}{5} \\, \\pi y\\right) + R \\gamma \\cos\\left(-4 \\, \\pi t + \\frac{2}{5} \\, \\pi x + \\frac{2}{5} \\, \\pi y\\right) + 9 \\, R \\gamma\\right)}},\\,\\frac{2 \\, {\\left(2 \\, \\pi \\gamma \\cos\\left(-2 \\, \\pi t + \\frac{1}{5} \\, \\pi x + \\frac{1}{5} \\, \\pi y\\right) + \\pi \\gamma + 10 \\, \\pi \\sin\\left(-2 \\, \\pi t + \\frac{1}{5} \\, \\pi x + \\frac{1}{5} \\, \\pi y\\right)\\right)}}{25 \\, {\\left(8 \\, R \\gamma \\cos\\left(-2 \\, \\pi t + \\frac{1}{5} \\, \\pi x + \\frac{1}{5} \\, \\pi y\\right) + R \\gamma \\cos\\left(-4 \\, \\pi t + \\frac{2}{5} \\, \\pi x + \\frac{2}{5} \\, \\pi y\\right) + 9 \\, R \\gamma\\right)}}\\right)</script></html>"
      ],
      "text/plain": [
       "(2/25*(2*pi*gamma*cos(-2*pi*t + 1/5*pi*x + 1/5*pi*y) + pi*gamma + 10*pi*sin(-2*pi*t + 1/5*pi*x + 1/5*pi*y))/(8*R*gamma*cos(-2*pi*t + 1/5*pi*x + 1/5*pi*y) + R*gamma*cos(-4*pi*t + 2/5*pi*x + 2/5*pi*y) + 9*R*gamma), 2/25*(2*pi*gamma*cos(-2*pi*t + 1/5*pi*x + 1/5*pi*y) + pi*gamma + 10*pi*sin(-2*pi*t + 1/5*pi*x + 1/5*pi*y))/(8*R*gamma*cos(-2*pi*t + 1/5*pi*x + 1/5*pi*y) + R*gamma*cos(-4*pi*t + 2/5*pi*x + 2/5*pi*y) + 9*R*gamma))"
      ]
     },
     "execution_count": 5,
     "metadata": {},
     "output_type": "execute_result"
    }
   ],
   "source": [
    "# Temperature\n",
    "T = (p/(rho * gas_constant))\n",
    "flux_heat = (jacobian(T, X)[0])\n",
    "flux_heat = vector([trigsimp(flux_heat[0]), trigsimp(flux_heat[1])])\n",
    "flux_heat"
   ]
  },
  {
   "cell_type": "code",
   "execution_count": 6,
   "metadata": {},
   "outputs": [],
   "source": [
    "flux_rho = v * rho\n",
    "v_outer = v.column() * v.row()\n",
    "flux_v = rho * v_outer + identity_matrix(2) * p + stress_T\n",
    "flux_E = v * (identity_matrix(2) * E + identity_matrix(2) * p + stress_T) - kappa * flux_heat"
   ]
  },
  {
   "cell_type": "code",
   "execution_count": 7,
   "metadata": {},
   "outputs": [
    {
     "data": {
      "text/html": [
       "<html><script type=\"math/tex; mode=display\">\\newcommand{\\Bold}[1]{\\mathbf{#1}}\\left(\\begin{array}{rr}\n",
       "\\frac{1}{8} \\, {\\left(\\cos\\left(-2 \\, \\pi t + \\frac{1}{5} \\, \\pi x + \\frac{1}{5} \\, \\pi y\\right) + 2\\right)} \\sin\\left(-2 \\, \\pi t + \\frac{1}{5} \\, \\pi x + \\frac{1}{5} \\, \\pi y\\right) & \\frac{1}{8} \\, {\\left(\\cos\\left(-2 \\, \\pi t + \\frac{1}{5} \\, \\pi x + \\frac{1}{5} \\, \\pi y\\right) + 2\\right)} \\sin\\left(-2 \\, \\pi t + \\frac{1}{5} \\, \\pi x + \\frac{1}{5} \\, \\pi y\\right) \\\\\n",
       "-\\frac{1}{30} \\, \\pi \\mu \\cos\\left(-2 \\, \\pi t + \\frac{1}{5} \\, \\pi x + \\frac{1}{5} \\, \\pi y\\right) + \\frac{1}{32} \\, {\\left(\\cos\\left(-2 \\, \\pi t + \\frac{1}{5} \\, \\pi x + \\frac{1}{5} \\, \\pi y\\right) + 2\\right)} \\sin\\left(-2 \\, \\pi t + \\frac{1}{5} \\, \\pi x + \\frac{1}{5} \\, \\pi y\\right)^{2} + \\frac{1}{\\gamma} + \\frac{1}{10} \\, \\sin\\left(-2 \\, \\pi t + \\frac{1}{5} \\, \\pi x + \\frac{1}{5} \\, \\pi y\\right) & -\\frac{1}{10} \\, \\pi \\mu \\cos\\left(-2 \\, \\pi t + \\frac{1}{5} \\, \\pi x + \\frac{1}{5} \\, \\pi y\\right) + \\frac{1}{32} \\, {\\left(\\cos\\left(-2 \\, \\pi t + \\frac{1}{5} \\, \\pi x + \\frac{1}{5} \\, \\pi y\\right) + 2\\right)} \\sin\\left(-2 \\, \\pi t + \\frac{1}{5} \\, \\pi x + \\frac{1}{5} \\, \\pi y\\right)^{2} \\\\\n",
       "-\\frac{1}{10} \\, \\pi \\mu \\cos\\left(-2 \\, \\pi t + \\frac{1}{5} \\, \\pi x + \\frac{1}{5} \\, \\pi y\\right) + \\frac{1}{32} \\, {\\left(\\cos\\left(-2 \\, \\pi t + \\frac{1}{5} \\, \\pi x + \\frac{1}{5} \\, \\pi y\\right) + 2\\right)} \\sin\\left(-2 \\, \\pi t + \\frac{1}{5} \\, \\pi x + \\frac{1}{5} \\, \\pi y\\right)^{2} & -\\frac{1}{30} \\, \\pi \\mu \\cos\\left(-2 \\, \\pi t + \\frac{1}{5} \\, \\pi x + \\frac{1}{5} \\, \\pi y\\right) + \\frac{1}{32} \\, {\\left(\\cos\\left(-2 \\, \\pi t + \\frac{1}{5} \\, \\pi x + \\frac{1}{5} \\, \\pi y\\right) + 2\\right)} \\sin\\left(-2 \\, \\pi t + \\frac{1}{5} \\, \\pi x + \\frac{1}{5} \\, \\pi y\\right)^{2} + \\frac{1}{\\gamma} + \\frac{1}{10} \\, \\sin\\left(-2 \\, \\pi t + \\frac{1}{5} \\, \\pi x + \\frac{1}{5} \\, \\pi y\\right) \\\\\n",
       "-\\frac{1}{40} \\, \\pi \\mu \\cos\\left(-2 \\, \\pi t + \\frac{1}{5} \\, \\pi x + \\frac{1}{5} \\, \\pi y\\right) \\sin\\left(-2 \\, \\pi t + \\frac{1}{5} \\, \\pi x + \\frac{1}{5} \\, \\pi y\\right) - \\frac{1}{1920} \\, {\\left(16 \\, \\pi \\mu \\cos\\left(-2 \\, \\pi t + \\frac{1}{5} \\, \\pi x + \\frac{1}{5} \\, \\pi y\\right) - 15 \\, {\\left(\\cos\\left(-2 \\, \\pi t + \\frac{1}{5} \\, \\pi x + \\frac{1}{5} \\, \\pi y\\right) + 2\\right)} \\sin\\left(-2 \\, \\pi t + \\frac{1}{5} \\, \\pi x + \\frac{1}{5} \\, \\pi y\\right)^{2} - \\frac{48 \\, {\\left(\\frac{10}{\\gamma} + \\sin\\left(-2 \\, \\pi t + \\frac{1}{5} \\, \\pi x + \\frac{1}{5} \\, \\pi y\\right)\\right)}}{\\gamma - 1} - \\frac{480}{\\gamma} - 48 \\, \\sin\\left(-2 \\, \\pi t + \\frac{1}{5} \\, \\pi x + \\frac{1}{5} \\, \\pi y\\right)\\right)} \\sin\\left(-2 \\, \\pi t + \\frac{1}{5} \\, \\pi x + \\frac{1}{5} \\, \\pi y\\right) - \\frac{2 \\, {\\left(2 \\, \\pi \\gamma \\cos\\left(-2 \\, \\pi t + \\frac{1}{5} \\, \\pi x + \\frac{1}{5} \\, \\pi y\\right) + \\pi \\gamma + 10 \\, \\pi \\sin\\left(-2 \\, \\pi t + \\frac{1}{5} \\, \\pi x + \\frac{1}{5} \\, \\pi y\\right)\\right)} \\kappa}{25 \\, {\\left(8 \\, R \\gamma \\cos\\left(-2 \\, \\pi t + \\frac{1}{5} \\, \\pi x + \\frac{1}{5} \\, \\pi y\\right) + R \\gamma \\cos\\left(-4 \\, \\pi t + \\frac{2}{5} \\, \\pi x + \\frac{2}{5} \\, \\pi y\\right) + 9 \\, R \\gamma\\right)}} & -\\frac{1}{40} \\, \\pi \\mu \\cos\\left(-2 \\, \\pi t + \\frac{1}{5} \\, \\pi x + \\frac{1}{5} \\, \\pi y\\right) \\sin\\left(-2 \\, \\pi t + \\frac{1}{5} \\, \\pi x + \\frac{1}{5} \\, \\pi y\\right) - \\frac{1}{1920} \\, {\\left(16 \\, \\pi \\mu \\cos\\left(-2 \\, \\pi t + \\frac{1}{5} \\, \\pi x + \\frac{1}{5} \\, \\pi y\\right) - 15 \\, {\\left(\\cos\\left(-2 \\, \\pi t + \\frac{1}{5} \\, \\pi x + \\frac{1}{5} \\, \\pi y\\right) + 2\\right)} \\sin\\left(-2 \\, \\pi t + \\frac{1}{5} \\, \\pi x + \\frac{1}{5} \\, \\pi y\\right)^{2} - \\frac{48 \\, {\\left(\\frac{10}{\\gamma} + \\sin\\left(-2 \\, \\pi t + \\frac{1}{5} \\, \\pi x + \\frac{1}{5} \\, \\pi y\\right)\\right)}}{\\gamma - 1} - \\frac{480}{\\gamma} - 48 \\, \\sin\\left(-2 \\, \\pi t + \\frac{1}{5} \\, \\pi x + \\frac{1}{5} \\, \\pi y\\right)\\right)} \\sin\\left(-2 \\, \\pi t + \\frac{1}{5} \\, \\pi x + \\frac{1}{5} \\, \\pi y\\right) - \\frac{2 \\, {\\left(2 \\, \\pi \\gamma \\cos\\left(-2 \\, \\pi t + \\frac{1}{5} \\, \\pi x + \\frac{1}{5} \\, \\pi y\\right) + \\pi \\gamma + 10 \\, \\pi \\sin\\left(-2 \\, \\pi t + \\frac{1}{5} \\, \\pi x + \\frac{1}{5} \\, \\pi y\\right)\\right)} \\kappa}{25 \\, {\\left(8 \\, R \\gamma \\cos\\left(-2 \\, \\pi t + \\frac{1}{5} \\, \\pi x + \\frac{1}{5} \\, \\pi y\\right) + R \\gamma \\cos\\left(-4 \\, \\pi t + \\frac{2}{5} \\, \\pi x + \\frac{2}{5} \\, \\pi y\\right) + 9 \\, R \\gamma\\right)}}\n",
       "\\end{array}\\right)</script></html>"
      ],
      "text/plain": [
       "[                                                                                                                                                                                                                                                                                                                                                                                                                                                                                                                               1/8*(cos(-2*pi*t + 1/5*pi*x + 1/5*pi*y) + 2)*sin(-2*pi*t + 1/5*pi*x + 1/5*pi*y)                                                                                                                                                                                                                                                                                                                                                                                                                                                                                                                                1/8*(cos(-2*pi*t + 1/5*pi*x + 1/5*pi*y) + 2)*sin(-2*pi*t + 1/5*pi*x + 1/5*pi*y)]\n",
       "[                                                                                                                                                                                                                                                                                                                                                                                                                       -1/30*pi*mu*cos(-2*pi*t + 1/5*pi*x + 1/5*pi*y) + 1/32*(cos(-2*pi*t + 1/5*pi*x + 1/5*pi*y) + 2)*sin(-2*pi*t + 1/5*pi*x + 1/5*pi*y)^2 + 1/gamma + 1/10*sin(-2*pi*t + 1/5*pi*x + 1/5*pi*y)                                                                                                                                                                                                                                                                                                                                                                                                                                                                            -1/10*pi*mu*cos(-2*pi*t + 1/5*pi*x + 1/5*pi*y) + 1/32*(cos(-2*pi*t + 1/5*pi*x + 1/5*pi*y) + 2)*sin(-2*pi*t + 1/5*pi*x + 1/5*pi*y)^2]\n",
       "[                                                                                                                                                                                                                                                                                                                                                                                                                                                                           -1/10*pi*mu*cos(-2*pi*t + 1/5*pi*x + 1/5*pi*y) + 1/32*(cos(-2*pi*t + 1/5*pi*x + 1/5*pi*y) + 2)*sin(-2*pi*t + 1/5*pi*x + 1/5*pi*y)^2                                                                                                                                                                                                                                                                                                                                                                                                                        -1/30*pi*mu*cos(-2*pi*t + 1/5*pi*x + 1/5*pi*y) + 1/32*(cos(-2*pi*t + 1/5*pi*x + 1/5*pi*y) + 2)*sin(-2*pi*t + 1/5*pi*x + 1/5*pi*y)^2 + 1/gamma + 1/10*sin(-2*pi*t + 1/5*pi*x + 1/5*pi*y)]\n",
       "[-1/40*pi*mu*cos(-2*pi*t + 1/5*pi*x + 1/5*pi*y)*sin(-2*pi*t + 1/5*pi*x + 1/5*pi*y) - 1/1920*(16*pi*mu*cos(-2*pi*t + 1/5*pi*x + 1/5*pi*y) - 15*(cos(-2*pi*t + 1/5*pi*x + 1/5*pi*y) + 2)*sin(-2*pi*t + 1/5*pi*x + 1/5*pi*y)^2 - 48*(10/gamma + sin(-2*pi*t + 1/5*pi*x + 1/5*pi*y))/(gamma - 1) - 480/gamma - 48*sin(-2*pi*t + 1/5*pi*x + 1/5*pi*y))*sin(-2*pi*t + 1/5*pi*x + 1/5*pi*y) - 2/25*(2*pi*gamma*cos(-2*pi*t + 1/5*pi*x + 1/5*pi*y) + pi*gamma + 10*pi*sin(-2*pi*t + 1/5*pi*x + 1/5*pi*y))*kappa/(8*R*gamma*cos(-2*pi*t + 1/5*pi*x + 1/5*pi*y) + R*gamma*cos(-4*pi*t + 2/5*pi*x + 2/5*pi*y) + 9*R*gamma) -1/40*pi*mu*cos(-2*pi*t + 1/5*pi*x + 1/5*pi*y)*sin(-2*pi*t + 1/5*pi*x + 1/5*pi*y) - 1/1920*(16*pi*mu*cos(-2*pi*t + 1/5*pi*x + 1/5*pi*y) - 15*(cos(-2*pi*t + 1/5*pi*x + 1/5*pi*y) + 2)*sin(-2*pi*t + 1/5*pi*x + 1/5*pi*y)^2 - 48*(10/gamma + sin(-2*pi*t + 1/5*pi*x + 1/5*pi*y))/(gamma - 1) - 480/gamma - 48*sin(-2*pi*t + 1/5*pi*x + 1/5*pi*y))*sin(-2*pi*t + 1/5*pi*x + 1/5*pi*y) - 2/25*(2*pi*gamma*cos(-2*pi*t + 1/5*pi*x + 1/5*pi*y) + pi*gamma + 10*pi*sin(-2*pi*t + 1/5*pi*x + 1/5*pi*y))*kappa/(8*R*gamma*cos(-2*pi*t + 1/5*pi*x + 1/5*pi*y) + R*gamma*cos(-4*pi*t + 2/5*pi*x + 2/5*pi*y) + 9*R*gamma)]"
      ]
     },
     "execution_count": 7,
     "metadata": {},
     "output_type": "execute_result"
    }
   ],
   "source": [
    "flux = (Matrix([flux_rho, flux_v[0], flux_v[1], flux_E]))\n",
    "flux"
   ]
  },
  {
   "cell_type": "code",
   "execution_count": 8,
   "metadata": {},
   "outputs": [],
   "source": [
    "source = (jacobian(Q, t) + jacobian(flux[:,0], x) + jacobian(flux[:,1], y))[:,0]"
   ]
  },
  {
   "cell_type": "code",
   "execution_count": 9,
   "metadata": {},
   "outputs": [
    {
     "name": "stdout",
     "output_type": "stream",
     "text": [
      "/******************************************************************************\n",
      " *                      Code generated with sympy 1.1.1                       *\n",
      " *                                                                            *\n",
      " *              See http://www.sympy.org/ for more information.               *\n",
      " *                                                                            *\n",
      " *          This file is part of 'NavierStokes_ManufacturedSolution'          *\n",
      " ******************************************************************************/\n",
      "#include \"evaluateSource.h\"\n",
      "#include <math.h>\n",
      "\n",
      "void evaluateSource(double R, double gamma, double kappa, double mu, double t, double x, double y, double *out_5175751922508384391) {\n",
      "\n",
      "   out_5175751922508384391[0] = (1.0L/20.0L)*M_PI*(cos(-2*M_PI*t + (1.0L/5.0L)*M_PI*x + (1.0L/5.0L)*M_PI*y) + 2)*cos(-2*M_PI*t + (1.0L/5.0L)*M_PI*x + (1.0L/5.0L)*M_PI*y) - 1.0L/20.0L*M_PI*pow(sin(-2*M_PI*t + (1.0L/5.0L)*M_PI*x + (1.0L/5.0L)*M_PI*y), 2) + M_PI*sin(-2*M_PI*t + (1.0L/5.0L)*M_PI*x + (1.0L/5.0L)*M_PI*y);\n",
      "   out_5175751922508384391[1] = (2.0L/75.0L)*pow(M_PI, 2)*mu*sin(-2*M_PI*t + (1.0L/5.0L)*M_PI*x + (1.0L/5.0L)*M_PI*y) + (1.0L/40.0L)*M_PI*(cos(-2*M_PI*t + (1.0L/5.0L)*M_PI*x + (1.0L/5.0L)*M_PI*y) + 2)*sin(-2*M_PI*t + (1.0L/5.0L)*M_PI*x + (1.0L/5.0L)*M_PI*y)*cos(-2*M_PI*t + (1.0L/5.0L)*M_PI*x + (1.0L/5.0L)*M_PI*y) - 1.0L/4.0L*M_PI*(cos(-2*M_PI*t + (1.0L/5.0L)*M_PI*x + (1.0L/5.0L)*M_PI*y) + 2)*cos(-2*M_PI*t + (1.0L/5.0L)*M_PI*x + (1.0L/5.0L)*M_PI*y) - 1.0L/80.0L*M_PI*pow(sin(-2*M_PI*t + (1.0L/5.0L)*M_PI*x + (1.0L/5.0L)*M_PI*y), 3) + (1.0L/4.0L)*M_PI*pow(sin(-2*M_PI*t + (1.0L/5.0L)*M_PI*x + (1.0L/5.0L)*M_PI*y), 2) + (1.0L/50.0L)*M_PI*cos(-2*M_PI*t + (1.0L/5.0L)*M_PI*x + (1.0L/5.0L)*M_PI*y);\n",
      "   out_5175751922508384391[2] = (2.0L/75.0L)*pow(M_PI, 2)*mu*sin(-2*M_PI*t + (1.0L/5.0L)*M_PI*x + (1.0L/5.0L)*M_PI*y) + (1.0L/40.0L)*M_PI*(cos(-2*M_PI*t + (1.0L/5.0L)*M_PI*x + (1.0L/5.0L)*M_PI*y) + 2)*sin(-2*M_PI*t + (1.0L/5.0L)*M_PI*x + (1.0L/5.0L)*M_PI*y)*cos(-2*M_PI*t + (1.0L/5.0L)*M_PI*x + (1.0L/5.0L)*M_PI*y) - 1.0L/4.0L*M_PI*(cos(-2*M_PI*t + (1.0L/5.0L)*M_PI*x + (1.0L/5.0L)*M_PI*y) + 2)*cos(-2*M_PI*t + (1.0L/5.0L)*M_PI*x + (1.0L/5.0L)*M_PI*y) - 1.0L/80.0L*M_PI*pow(sin(-2*M_PI*t + (1.0L/5.0L)*M_PI*x + (1.0L/5.0L)*M_PI*y), 3) + (1.0L/4.0L)*M_PI*pow(sin(-2*M_PI*t + (1.0L/5.0L)*M_PI*x + (1.0L/5.0L)*M_PI*y), 2) + (1.0L/50.0L)*M_PI*cos(-2*M_PI*t + (1.0L/5.0L)*M_PI*x + (1.0L/5.0L)*M_PI*y);\n",
      "   out_5175751922508384391[3] = (8.0L/125.0L)*kappa*(pow(M_PI, 2)*gamma*sin(-2*M_PI*t + (1.0L/5.0L)*M_PI*x + (1.0L/5.0L)*M_PI*y) - 5*pow(M_PI, 2)*cos(-2*M_PI*t + (1.0L/5.0L)*M_PI*x + (1.0L/5.0L)*M_PI*y))/(R*gamma*cos(-4*M_PI*t + (2.0L/5.0L)*M_PI*x + (2.0L/5.0L)*M_PI*y) + 8*R*gamma*cos(-2*M_PI*t + (1.0L/5.0L)*M_PI*x + (1.0L/5.0L)*M_PI*y) + 9*R*gamma) - 8.0L/125.0L*kappa*(M_PI*R*gamma*sin(-4*M_PI*t + (2.0L/5.0L)*M_PI*x + (2.0L/5.0L)*M_PI*y) + 4*M_PI*R*gamma*sin(-2*M_PI*t + (1.0L/5.0L)*M_PI*x + (1.0L/5.0L)*M_PI*y))*(2*M_PI*gamma*cos(-2*M_PI*t + (1.0L/5.0L)*M_PI*x + (1.0L/5.0L)*M_PI*y) + M_PI*gamma + 10*M_PI*sin(-2*M_PI*t + (1.0L/5.0L)*M_PI*x + (1.0L/5.0L)*M_PI*y))/pow(R*gamma*cos(-4*M_PI*t + (2.0L/5.0L)*M_PI*x + (2.0L/5.0L)*M_PI*y) + 8*R*gamma*cos(-2*M_PI*t + (1.0L/5.0L)*M_PI*x + (1.0L/5.0L)*M_PI*y) + 9*R*gamma, 2) + (1.0L/100.0L)*pow(M_PI, 2)*mu*pow(sin(-2*M_PI*t + (1.0L/5.0L)*M_PI*x + (1.0L/5.0L)*M_PI*y), 2) - 1.0L/100.0L*pow(M_PI, 2)*mu*pow(cos(-2*M_PI*t + (1.0L/5.0L)*M_PI*x + (1.0L/5.0L)*M_PI*y), 2) - 1.0L/8.0L*M_PI*(cos(-2*M_PI*t + (1.0L/5.0L)*M_PI*x + (1.0L/5.0L)*M_PI*y) + 2)*sin(-2*M_PI*t + (1.0L/5.0L)*M_PI*x + (1.0L/5.0L)*M_PI*y)*cos(-2*M_PI*t + (1.0L/5.0L)*M_PI*x + (1.0L/5.0L)*M_PI*y) - 1.0L/4800.0L*M_PI*(16*M_PI*mu*cos(-2*M_PI*t + (1.0L/5.0L)*M_PI*x + (1.0L/5.0L)*M_PI*y) - 15*(cos(-2*M_PI*t + (1.0L/5.0L)*M_PI*x + (1.0L/5.0L)*M_PI*y) + 2)*pow(sin(-2*M_PI*t + (1.0L/5.0L)*M_PI*x + (1.0L/5.0L)*M_PI*y), 2) - 48*sin(-2*M_PI*t + (1.0L/5.0L)*M_PI*x + (1.0L/5.0L)*M_PI*y) - 48*(sin(-2*M_PI*t + (1.0L/5.0L)*M_PI*x + (1.0L/5.0L)*M_PI*y) + 10/gamma)/(gamma - 1) - 480/gamma)*cos(-2*M_PI*t + (1.0L/5.0L)*M_PI*x + (1.0L/5.0L)*M_PI*y) + (1.0L/4800.0L)*(16*pow(M_PI, 2)*mu*sin(-2*M_PI*t + (1.0L/5.0L)*M_PI*x + (1.0L/5.0L)*M_PI*y) + 30*M_PI*(cos(-2*M_PI*t + (1.0L/5.0L)*M_PI*x + (1.0L/5.0L)*M_PI*y) + 2)*sin(-2*M_PI*t + (1.0L/5.0L)*M_PI*x + (1.0L/5.0L)*M_PI*y)*cos(-2*M_PI*t + (1.0L/5.0L)*M_PI*x + (1.0L/5.0L)*M_PI*y) - 15*M_PI*pow(sin(-2*M_PI*t + (1.0L/5.0L)*M_PI*x + (1.0L/5.0L)*M_PI*y), 3) + 48*M_PI*cos(-2*M_PI*t + (1.0L/5.0L)*M_PI*x + (1.0L/5.0L)*M_PI*y) + 48*M_PI*cos(-2*M_PI*t + (1.0L/5.0L)*M_PI*x + (1.0L/5.0L)*M_PI*y)/(gamma - 1))*sin(-2*M_PI*t + (1.0L/5.0L)*M_PI*x + (1.0L/5.0L)*M_PI*y) + (1.0L/16.0L)*M_PI*pow(sin(-2*M_PI*t + (1.0L/5.0L)*M_PI*x + (1.0L/5.0L)*M_PI*y), 3) - 1.0L/5.0L*M_PI*cos(-2*M_PI*t + (1.0L/5.0L)*M_PI*x + (1.0L/5.0L)*M_PI*y)/(gamma - 1);\n",
      "\n",
      "}\n",
      "\n",
      "void evaluateQ(double gamma, double t, double x, double y, double *out_635903475208603814) {\n",
      "\n",
      "   out_635903475208603814[0] = (1.0L/2.0L)*cos(-2*M_PI*t + (1.0L/5.0L)*M_PI*x + (1.0L/5.0L)*M_PI*y) + 1;\n",
      "   out_635903475208603814[1] = (1.0L/8.0L)*(cos(-2*M_PI*t + (1.0L/5.0L)*M_PI*x + (1.0L/5.0L)*M_PI*y) + 2)*sin(-2*M_PI*t + (1.0L/5.0L)*M_PI*x + (1.0L/5.0L)*M_PI*y);\n",
      "   out_635903475208603814[2] = (1.0L/8.0L)*(cos(-2*M_PI*t + (1.0L/5.0L)*M_PI*x + (1.0L/5.0L)*M_PI*y) + 2)*sin(-2*M_PI*t + (1.0L/5.0L)*M_PI*x + (1.0L/5.0L)*M_PI*y);\n",
      "   out_635903475208603814[3] = (1.0L/32.0L)*(cos(-2*M_PI*t + (1.0L/5.0L)*M_PI*x + (1.0L/5.0L)*M_PI*y) + 2)*pow(sin(-2*M_PI*t + (1.0L/5.0L)*M_PI*x + (1.0L/5.0L)*M_PI*y), 2) + (1.0L/10.0L)*(sin(-2*M_PI*t + (1.0L/5.0L)*M_PI*x + (1.0L/5.0L)*M_PI*y) + 10/gamma)/(gamma - 1);\n",
      "\n",
      "}\n",
      "\n",
      "void evaluateGradQ(double gamma, double t, double x, double y, double *out_7238423306091270252) {\n",
      "\n",
      "   out_7238423306091270252[0] = -1.0L/10.0L*M_PI*sin(-2*M_PI*t + (1.0L/5.0L)*M_PI*x + (1.0L/5.0L)*M_PI*y);\n",
      "   out_7238423306091270252[1] = (1.0L/40.0L)*M_PI*(cos(-2*M_PI*t + (1.0L/5.0L)*M_PI*x + (1.0L/5.0L)*M_PI*y) + 2)*cos(-2*M_PI*t + (1.0L/5.0L)*M_PI*x + (1.0L/5.0L)*M_PI*y) - 1.0L/40.0L*M_PI*pow(sin(-2*M_PI*t + (1.0L/5.0L)*M_PI*x + (1.0L/5.0L)*M_PI*y), 2);\n",
      "   out_7238423306091270252[2] = (1.0L/40.0L)*M_PI*(cos(-2*M_PI*t + (1.0L/5.0L)*M_PI*x + (1.0L/5.0L)*M_PI*y) + 2)*cos(-2*M_PI*t + (1.0L/5.0L)*M_PI*x + (1.0L/5.0L)*M_PI*y) - 1.0L/40.0L*M_PI*pow(sin(-2*M_PI*t + (1.0L/5.0L)*M_PI*x + (1.0L/5.0L)*M_PI*y), 2);\n",
      "   out_7238423306091270252[3] = (1.0L/80.0L)*M_PI*(cos(-2*M_PI*t + (1.0L/5.0L)*M_PI*x + (1.0L/5.0L)*M_PI*y) + 2)*sin(-2*M_PI*t + (1.0L/5.0L)*M_PI*x + (1.0L/5.0L)*M_PI*y)*cos(-2*M_PI*t + (1.0L/5.0L)*M_PI*x + (1.0L/5.0L)*M_PI*y) - 1.0L/160.0L*M_PI*pow(sin(-2*M_PI*t + (1.0L/5.0L)*M_PI*x + (1.0L/5.0L)*M_PI*y), 3) + (1.0L/50.0L)*M_PI*cos(-2*M_PI*t + (1.0L/5.0L)*M_PI*x + (1.0L/5.0L)*M_PI*y)/(gamma - 1);\n",
      "   out_7238423306091270252[4] = -1.0L/10.0L*M_PI*sin(-2*M_PI*t + (1.0L/5.0L)*M_PI*x + (1.0L/5.0L)*M_PI*y);\n",
      "   out_7238423306091270252[5] = (1.0L/40.0L)*M_PI*(cos(-2*M_PI*t + (1.0L/5.0L)*M_PI*x + (1.0L/5.0L)*M_PI*y) + 2)*cos(-2*M_PI*t + (1.0L/5.0L)*M_PI*x + (1.0L/5.0L)*M_PI*y) - 1.0L/40.0L*M_PI*pow(sin(-2*M_PI*t + (1.0L/5.0L)*M_PI*x + (1.0L/5.0L)*M_PI*y), 2);\n",
      "   out_7238423306091270252[6] = (1.0L/40.0L)*M_PI*(cos(-2*M_PI*t + (1.0L/5.0L)*M_PI*x + (1.0L/5.0L)*M_PI*y) + 2)*cos(-2*M_PI*t + (1.0L/5.0L)*M_PI*x + (1.0L/5.0L)*M_PI*y) - 1.0L/40.0L*M_PI*pow(sin(-2*M_PI*t + (1.0L/5.0L)*M_PI*x + (1.0L/5.0L)*M_PI*y), 2);\n",
      "   out_7238423306091270252[7] = (1.0L/80.0L)*M_PI*(cos(-2*M_PI*t + (1.0L/5.0L)*M_PI*x + (1.0L/5.0L)*M_PI*y) + 2)*sin(-2*M_PI*t + (1.0L/5.0L)*M_PI*x + (1.0L/5.0L)*M_PI*y)*cos(-2*M_PI*t + (1.0L/5.0L)*M_PI*x + (1.0L/5.0L)*M_PI*y) - 1.0L/160.0L*M_PI*pow(sin(-2*M_PI*t + (1.0L/5.0L)*M_PI*x + (1.0L/5.0L)*M_PI*y), 3) + (1.0L/50.0L)*M_PI*cos(-2*M_PI*t + (1.0L/5.0L)*M_PI*x + (1.0L/5.0L)*M_PI*y)/(gamma - 1);\n",
      "\n",
      "}\n",
      "\n"
     ]
    }
   ],
   "source": [
    "import sympy\n",
    "from sympy import sympify\n",
    "from sympy.utilities.codegen import codegen\n",
    "def sympify_vector(vec):\n",
    "    components = [sympify(e) for e in vec]\n",
    "    return sympy.Matrix(components)\n",
    "\n",
    "gradQSympy = sympify_vector(vector(gradQ.list())).reshape(gradQ.nrows(),gradQ.ncols())\n",
    "\n",
    "[(c_name, c_code), (h_name, c_header)] = codegen([['evaluateSource', sympify_vector(vector(source.list()))],\n",
    "                                                  ['evaluateQ', sympify_vector(Q)],\n",
    "                                                  # gradQ has shape (dim, vars) in exahype!\n",
    "                                                  ['evaluateGradQ', gradQSympy.T] \n",
    "                                                 ],\n",
    "                                                project='NavierStokes_ManufacturedSolution',\n",
    "                                                language='C',\n",
    "                                                standard='C99')\n",
    "print(c_code)"
   ]
  }
 ],
 "metadata": {
  "kernelspec": {
   "display_name": "SageMath 8.3",
   "language": "",
   "name": "sagemath"
  },
  "language_info": {
   "codemirror_mode": {
    "name": "ipython",
    "version": 2
   },
   "file_extension": ".py",
   "mimetype": "text/x-python",
   "name": "python",
   "nbconvert_exporter": "python",
   "pygments_lexer": "ipython2",
   "version": "2.7.15"
  }
 },
 "nbformat": 4,
 "nbformat_minor": 2
}
